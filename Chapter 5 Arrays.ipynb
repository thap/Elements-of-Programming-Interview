{
 "cells": [
  {
   "cell_type": "markdown",
   "metadata": {},
   "source": [
    "# 5. Arrays"
   ]
  },
  {
   "cell_type": "code",
   "execution_count": 1,
   "metadata": {},
   "outputs": [],
   "source": [
    "from typing import List"
   ]
  },
  {
   "cell_type": "code",
   "execution_count": 2,
   "metadata": {},
   "outputs": [],
   "source": [
    "def even_odd(A: List[int]) -> List[int]:\n",
    "    next_even, next_odd = 0, len(A) - 1\n",
    "    while next_even < next_odd:\n",
    "        if A[next_even] % 2 == 0:\n",
    "            next_even += 1\n",
    "        else:\n",
    "            A[next_even], A[next_odd] = A[next_odd], A[next_even]\n",
    "            next_odd -= 1\n",
    "    return A"
   ]
  },
  {
   "cell_type": "code",
   "execution_count": 3,
   "metadata": {},
   "outputs": [
    {
     "data": {
      "text/plain": [
       "[4, 2, 3, 5, 1]"
      ]
     },
     "execution_count": 3,
     "metadata": {},
     "output_type": "execute_result"
    }
   ],
   "source": [
    "even_odd([1, 2, 3, 4, 5])"
   ]
  },
  {
   "cell_type": "code",
   "execution_count": 4,
   "metadata": {},
   "outputs": [],
   "source": [
    "def dutch_flag_partition(pivot_index: int, A: List[int]) -> None:\n",
    "    pivot = A[pivot_index]\n",
    "    smaller = 0\n",
    "    for i in range(len(A)):\n",
    "        if A[i] < pivot:\n",
    "            A[i], A[smaller] = A[smaller], A[i]\n",
    "            smaller += 1\n",
    "    larger = len(A) - 1\n",
    "    for i in reversed(range(len(A))):\n",
    "        if A[i] > pivot:\n",
    "            A[i], A[larger] = A[larger], A[i]\n",
    "            larger -= 1"
   ]
  },
  {
   "cell_type": "code",
   "execution_count": 5,
   "metadata": {},
   "outputs": [
    {
     "name": "stdout",
     "output_type": "stream",
     "text": [
      "4.36 ms ± 1.5 ms per loop (mean ± std. dev. of 7 runs, 100 loops each)\n"
     ]
    }
   ],
   "source": [
    "%timeit dutch_flag_partition(5000, list(reversed(range(10000))))"
   ]
  },
  {
   "cell_type": "code",
   "execution_count": 6,
   "metadata": {},
   "outputs": [],
   "source": [
    "def dutch_flag_partition(pivot_index: int, A: List[int]) -> None:\n",
    "    pivot = A[pivot_index]\n",
    "    smaller, equal, larger = 0, 0, len(A)\n",
    "    while equal < larger:\n",
    "        if A[equal] < pivot:\n",
    "            A[smaller], A[equal] = A[equal], A[smaller]\n",
    "            smaller, equal = smaller + 1, equal + 1\n",
    "        elif A[equal] == pivot:\n",
    "            equal += 1\n",
    "        else:\n",
    "            larger -= 1\n",
    "            A[equal], A[larger] = A[larger], A[equal]"
   ]
  },
  {
   "cell_type": "code",
   "execution_count": 7,
   "metadata": {},
   "outputs": [
    {
     "name": "stdout",
     "output_type": "stream",
     "text": [
      "3.16 ms ± 13.1 µs per loop (mean ± std. dev. of 7 runs, 100 loops each)\n"
     ]
    }
   ],
   "source": [
    "%timeit dutch_flag_partition(5000, list(reversed(range(10000))))"
   ]
  },
  {
   "cell_type": "code",
   "execution_count": 8,
   "metadata": {},
   "outputs": [],
   "source": [
    "def plus_one(A: List[int]) -> List[int]:\n",
    "    A[-1] += 1\n",
    "    for i in reversed(range(1, len(A))):\n",
    "        if A[i] != 10:\n",
    "            break\n",
    "        A[i] = 0\n",
    "        A[i - 1] += 1\n",
    "    if A[0] == 10:\n",
    "        A[0] = 1\n",
    "        A.append(0)\n",
    "    return A"
   ]
  },
  {
   "cell_type": "code",
   "execution_count": 9,
   "metadata": {},
   "outputs": [
    {
     "name": "stdout",
     "output_type": "stream",
     "text": [
      "2.23 ms ± 22.4 µs per loop (mean ± std. dev. of 7 runs, 100 loops each)\n"
     ]
    }
   ],
   "source": [
    "%timeit plus_one([9] * 10000)"
   ]
  },
  {
   "cell_type": "code",
   "execution_count": 10,
   "metadata": {},
   "outputs": [],
   "source": [
    "def multiply(num1: List[int], num2: List[int]) -> List[int]:\n",
    "    sign = -1 if (num1[0] < 0) ^ (num2[0] < 0) else 1\n",
    "    num1[0], num2[0] = abs(num1[0]), abs(num2[0])\n",
    "    \n",
    "    result = [0] * (len(num1) + len(num2))\n",
    "    for i in reversed(range(len(num1))):\n",
    "        for j in reversed(range(len(num2))):\n",
    "            result[i + j + 1] += num1[i] * num2[j]\n",
    "            result[i + j] += result[i + j + 1] // 10\n",
    "            result[i + j + 1] %= 10\n",
    "            \n",
    "    result = result[next((i for i, x in enumerate(result) if x != 0), len(result)):] or [0]\n",
    "    return [sign * result[0]] + result[1:]"
   ]
  },
  {
   "cell_type": "code",
   "execution_count": 11,
   "metadata": {},
   "outputs": [
    {
     "data": {
      "text/plain": [
       "[1, 6, 0]"
      ]
     },
     "execution_count": 11,
     "metadata": {},
     "output_type": "execute_result"
    }
   ],
   "source": [
    "multiply([-5], [-3, 2])"
   ]
  },
  {
   "cell_type": "code",
   "execution_count": 12,
   "metadata": {},
   "outputs": [],
   "source": [
    "def can_reach_end(A: List[int]) -> bool:\n",
    "    furthest_reach_so_far, last_index = 0, len(A) - 1\n",
    "    i = 0\n",
    "    while i <= furthest_reach_so_far and furthest_reach_so_far < last_index:\n",
    "        furthest_reach_so_far = max(furthest_reach_so_far, A[i] + i)\n",
    "        i += 1\n",
    "    return furthest_reach_so_far >= last_index"
   ]
  },
  {
   "cell_type": "code",
   "execution_count": 13,
   "metadata": {},
   "outputs": [
    {
     "data": {
      "text/plain": [
       "True"
      ]
     },
     "execution_count": 13,
     "metadata": {},
     "output_type": "execute_result"
    }
   ],
   "source": [
    "can_reach_end([3, 3, 1, 0, 2, 0, 1])"
   ]
  },
  {
   "cell_type": "code",
   "execution_count": 14,
   "metadata": {},
   "outputs": [
    {
     "data": {
      "text/plain": [
       "False"
      ]
     },
     "execution_count": 14,
     "metadata": {},
     "output_type": "execute_result"
    }
   ],
   "source": [
    "can_reach_end([3, 2, 0, 0, 2, 0, 1])"
   ]
  },
  {
   "cell_type": "code",
   "execution_count": 15,
   "metadata": {},
   "outputs": [],
   "source": [
    "def delete_duplicates(A: List[int]) -> int:\n",
    "    if not A:\n",
    "        return []\n",
    "    write_index = 1\n",
    "    for i in range(1, len(A)):\n",
    "        if A[write_index - 1] != A[i]:\n",
    "            A[write_index] = A[i]\n",
    "            write_index += 1\n",
    "    return A[:write_index]"
   ]
  },
  {
   "cell_type": "code",
   "execution_count": 16,
   "metadata": {},
   "outputs": [
    {
     "data": {
      "text/plain": [
       "[2, 3, 5, 7, 11, 13]"
      ]
     },
     "execution_count": 16,
     "metadata": {},
     "output_type": "execute_result"
    }
   ],
   "source": [
    "delete_duplicates([2, 3, 5, 5, 7, 11, 11, 11, 13])"
   ]
  },
  {
   "cell_type": "code",
   "execution_count": 17,
   "metadata": {},
   "outputs": [],
   "source": [
    "def buy_and_sell_stock_once(prices: List[float]) -> float:\n",
    "    min_price_so_far, max_profit = float('inf'), 0.0\n",
    "    for price in prices:\n",
    "        max_profit_sell_today = price - min_price_so_far\n",
    "        max_profit = max(max_profit, max_profit_sell_today)\n",
    "        min_price_so_far = min(min_price_so_far, price)\n",
    "    return max_profit"
   ]
  },
  {
   "cell_type": "code",
   "execution_count": 18,
   "metadata": {},
   "outputs": [
    {
     "data": {
      "text/plain": [
       "30"
      ]
     },
     "execution_count": 18,
     "metadata": {},
     "output_type": "execute_result"
    }
   ],
   "source": [
    "buy_and_sell_stock_once([310, 315, 275, 295, 260, 270, 290, 230, 255, 250])"
   ]
  },
  {
   "cell_type": "code",
   "execution_count": 19,
   "metadata": {},
   "outputs": [],
   "source": [
    "def buy_and_sell_stock_twice(prices: List[float]) -> float:\n",
    "    max_total_profit, min_price_so_far = 0.0, float('inf')\n",
    "    first_buy_sell_profits = [0.0] * len(prices)\n",
    "    for i, price in enumerate(prices):\n",
    "        min_price_so_far = min(min_price_so_far, price)\n",
    "        max_total_profit = max(max_total_profit, price - min_price_so_far)\n",
    "        first_buy_sell_profits[i] = max_total_profit\n",
    "    max_price_so_far = float('-inf')\n",
    "    for i, price in reversed(list(enumerate(prices[1:], 1))):\n",
    "        max_price_so_far = max(max_price_so_far, price)\n",
    "        max_total_profit = max(max_total_profit, max_price_so_far - price + first_buy_sell_profits[i - 1])\n",
    "    return max_total_profit"
   ]
  },
  {
   "cell_type": "code",
   "execution_count": 20,
   "metadata": {},
   "outputs": [
    {
     "data": {
      "text/plain": [
       "55"
      ]
     },
     "execution_count": 20,
     "metadata": {},
     "output_type": "execute_result"
    }
   ],
   "source": [
    "buy_and_sell_stock_twice([310, 315, 275, 295, 260, 270, 290, 230, 255, 250])"
   ]
  },
  {
   "cell_type": "code",
   "execution_count": 21,
   "metadata": {},
   "outputs": [],
   "source": [
    "def buy_and_sell_stock_twice(prices: List[float]) -> float:\n",
    "    min_price = float('inf')\n",
    "    max_profit_after_first_sell = 0\n",
    "    max_profit_left_after_second_buy = float('-inf')\n",
    "    max_profit_after_second_sell = 0\n",
    "    for price in prices:\n",
    "        min_price = min(price, min_price)\n",
    "        max_profit_after_first_sell = max(price - min_price, max_profit_after_first_sell)\n",
    "        max_profit_left_after_second_buy = max(max_profit_after_first_sell - price, max_profit_left_after_second_buy)\n",
    "        max_profit_after_second_sell = max(price + max_profit_left_after_second_buy, max_profit_after_second_sell)\n",
    "    return max_profit_after_second_sell"
   ]
  },
  {
   "cell_type": "code",
   "execution_count": 22,
   "metadata": {},
   "outputs": [
    {
     "data": {
      "text/plain": [
       "55"
      ]
     },
     "execution_count": 22,
     "metadata": {},
     "output_type": "execute_result"
    }
   ],
   "source": [
    "buy_and_sell_stock_twice([310, 315, 275, 295, 260, 270, 290, 230, 255, 250])"
   ]
  },
  {
   "cell_type": "code",
   "execution_count": 23,
   "metadata": {},
   "outputs": [],
   "source": [
    "def rearrange(A: List[int]) -> List[int]:\n",
    "    for i in range(len(A)):\n",
    "        A[i:i + 2] = sorted(A[i:i + 2], reverse=bool(i % 2))\n",
    "    return A"
   ]
  },
  {
   "cell_type": "code",
   "execution_count": 24,
   "metadata": {},
   "outputs": [
    {
     "name": "stdout",
     "output_type": "stream",
     "text": [
      "9.58 ms ± 3.55 ms per loop (mean ± std. dev. of 7 runs, 100 loops each)\n"
     ]
    }
   ],
   "source": [
    "%timeit rearrange(list(range(10000)))"
   ]
  },
  {
   "cell_type": "code",
   "execution_count": 25,
   "metadata": {},
   "outputs": [],
   "source": [
    "def generate_primes(n: int) -> List[int]:\n",
    "    primes = []\n",
    "    is_prime = [False, False] + [True] * (n - 1)\n",
    "    for p in range(2, n + 1):\n",
    "        if is_prime[p]:\n",
    "            primes.append(p)\n",
    "            for i in range(p * 2, n + 1, p):\n",
    "                is_prime[i] = False\n",
    "    return primes"
   ]
  },
  {
   "cell_type": "code",
   "execution_count": 26,
   "metadata": {},
   "outputs": [
    {
     "name": "stdout",
     "output_type": "stream",
     "text": [
      "3.08 ms ± 1.15 ms per loop (mean ± std. dev. of 7 runs, 100 loops each)\n"
     ]
    }
   ],
   "source": [
    "%timeit generate_primes(10000)"
   ]
  },
  {
   "cell_type": "code",
   "execution_count": 27,
   "metadata": {},
   "outputs": [],
   "source": [
    "def generate_primes(n: int) -> List[int]:\n",
    "    if n < 2:\n",
    "        return []\n",
    "    primes = [2]\n",
    "    size = (n - 3) // 2 + 1\n",
    "    is_prime = [True] * size\n",
    "    for i in range(size):\n",
    "        if is_prime[i]:\n",
    "            p = i * 2 + 3\n",
    "            primes.append(p)\n",
    "            for j in range(2 * i**2 + 6 * i + 3, size, p):\n",
    "                is_prime[j] = False\n",
    "    return primes"
   ]
  },
  {
   "cell_type": "code",
   "execution_count": 28,
   "metadata": {},
   "outputs": [
    {
     "name": "stdout",
     "output_type": "stream",
     "text": [
      "1.82 ms ± 233 µs per loop (mean ± std. dev. of 7 runs, 1000 loops each)\n"
     ]
    }
   ],
   "source": [
    "%timeit generate_primes(10000)"
   ]
  },
  {
   "cell_type": "code",
   "execution_count": 29,
   "metadata": {},
   "outputs": [],
   "source": [
    "def apply_permutation(perm: List[int], A: List[int]) -> None:\n",
    "    for i in range(len(A)):\n",
    "        while perm[i] != i:\n",
    "            A[perm[i]], A[i] = A[i], A[perm[i]]\n",
    "            perm[perm[i]], perm[i] = perm[i], perm[perm[i]]\n",
    "    return A"
   ]
  },
  {
   "cell_type": "code",
   "execution_count": 30,
   "metadata": {},
   "outputs": [
    {
     "data": {
      "text/plain": [
       "[11, 12, 10, 13]"
      ]
     },
     "execution_count": 30,
     "metadata": {},
     "output_type": "execute_result"
    }
   ],
   "source": [
    "apply_permutation([2, 0, 1, 3], [10, 11, 12, 13])"
   ]
  },
  {
   "cell_type": "code",
   "execution_count": null,
   "metadata": {},
   "outputs": [],
   "source": []
  },
  {
   "cell_type": "code",
   "execution_count": null,
   "metadata": {},
   "outputs": [],
   "source": []
  }
 ],
 "metadata": {
  "kernelspec": {
   "display_name": "Python 3",
   "language": "python",
   "name": "python3"
  },
  "language_info": {
   "codemirror_mode": {
    "name": "ipython",
    "version": 3
   },
   "file_extension": ".py",
   "mimetype": "text/x-python",
   "name": "python",
   "nbconvert_exporter": "python",
   "pygments_lexer": "ipython3",
   "version": "3.7.4"
  }
 },
 "nbformat": 4,
 "nbformat_minor": 4
}
