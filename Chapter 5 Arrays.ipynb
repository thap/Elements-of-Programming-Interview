{
 "cells": [
  {
   "cell_type": "markdown",
   "metadata": {},
   "source": [
    "# 5. Arrays"
   ]
  },
  {
   "cell_type": "code",
   "execution_count": 148,
   "metadata": {},
   "outputs": [],
   "source": [
    "from typing import List, Iterator, Dict\n",
    "import math\n",
    "import collections\n",
    "from collections import Counter\n",
    "import numpy as np"
   ]
  },
  {
   "cell_type": "code",
   "execution_count": 2,
   "metadata": {},
   "outputs": [],
   "source": [
    "def even_odd(A: List[int]) -> List[int]:\n",
    "    next_even, next_odd = 0, len(A) - 1\n",
    "    while next_even < next_odd:\n",
    "        if A[next_even] % 2 == 0:\n",
    "            next_even += 1\n",
    "        else:\n",
    "            A[next_even], A[next_odd] = A[next_odd], A[next_even]\n",
    "            next_odd -= 1\n",
    "    return A"
   ]
  },
  {
   "cell_type": "code",
   "execution_count": 3,
   "metadata": {},
   "outputs": [
    {
     "data": {
      "text/plain": [
       "[4, 2, 3, 5, 1]"
      ]
     },
     "execution_count": 3,
     "metadata": {},
     "output_type": "execute_result"
    }
   ],
   "source": [
    "even_odd([1, 2, 3, 4, 5])"
   ]
  },
  {
   "cell_type": "code",
   "execution_count": 156,
   "metadata": {},
   "outputs": [],
   "source": [
    "def dutch_flag_partition(pivot_index: int, A: List[int]) -> None:\n",
    "    pivot = A[pivot_index]\n",
    "    # First pass: group elements smaller than pivot.\n",
    "    smaller = 0\n",
    "    for i in range(len(A)):\n",
    "        if A[i] < pivot:\n",
    "            A[i], A[smaller] = A[smaller], A[i]\n",
    "            smaller += 1\n",
    "    # Second pass: group elements larger than pivot.\n",
    "    larger = len(A) - 1\n",
    "    for i in reversed(range(len(A))):\n",
    "        if A[i] > pivot:\n",
    "            A[i], A[larger] = A[larger], A[i]\n",
    "            larger -= 1"
   ]
  },
  {
   "cell_type": "code",
   "execution_count": 157,
   "metadata": {},
   "outputs": [
    {
     "name": "stdout",
     "output_type": "stream",
     "text": [
      "4 ms ± 1.12 ms per loop (mean ± std. dev. of 7 runs, 100 loops each)\n"
     ]
    }
   ],
   "source": [
    "%timeit dutch_flag_partition(5000, list(reversed(range(10000))))"
   ]
  },
  {
   "cell_type": "code",
   "execution_count": 6,
   "metadata": {},
   "outputs": [],
   "source": [
    "def dutch_flag_partition(pivot_index: int, A: List[int]) -> None:\n",
    "    pivot = A[pivot_index]\n",
    "    # Keep the following invariants during partitioning:\n",
    "    # bottom group: A[:smaller].\n",
    "    # middle group: A[smaller:equal].\n",
    "    # unclassified group: A[equal:larger]\n",
    "    # top group: A[]\n",
    "    smaller, equal, larger = 0, 0, len(A)\n",
    "    # Keep iterating as long as there is an unclassified element\n",
    "    while equal < larger:\n",
    "        if A[equal] < pivot:\n",
    "            A[smaller], A[equal] = A[equal], A[smaller]\n",
    "            smaller, equal = smaller + 1, equal + 1\n",
    "        elif A[equal] == pivot:\n",
    "            equal += 1\n",
    "        else:\n",
    "            larger -= 1\n",
    "            A[equal], A[larger] = A[larger], A[equal]"
   ]
  },
  {
   "cell_type": "code",
   "execution_count": 7,
   "metadata": {},
   "outputs": [
    {
     "name": "stdout",
     "output_type": "stream",
     "text": [
      "3.16 ms ± 13.1 µs per loop (mean ± std. dev. of 7 runs, 100 loops each)\n"
     ]
    }
   ],
   "source": [
    "%timeit dutch_flag_partition(5000, list(reversed(range(10000))))"
   ]
  },
  {
   "cell_type": "code",
   "execution_count": 8,
   "metadata": {},
   "outputs": [],
   "source": [
    "def plus_one(A: List[int]) -> List[int]:\n",
    "    A[-1] += 1\n",
    "    for i in reversed(range(1, len(A))):\n",
    "        if A[i] != 10:\n",
    "            break\n",
    "        A[i] = 0\n",
    "        A[i - 1] += 1\n",
    "    if A[0] == 10:\n",
    "        # There is a carry-out, so we need one more digit to store the result.\n",
    "        # A lick way to do this is to append a 0 at the end of the array,\n",
    "        # and update the first entry to 1.\n",
    "        A[0] = 1\n",
    "        A.append(0)\n",
    "    return A"
   ]
  },
  {
   "cell_type": "code",
   "execution_count": 9,
   "metadata": {},
   "outputs": [
    {
     "name": "stdout",
     "output_type": "stream",
     "text": [
      "2.23 ms ± 22.4 µs per loop (mean ± std. dev. of 7 runs, 100 loops each)\n"
     ]
    }
   ],
   "source": [
    "%timeit plus_one([9] * 10000)"
   ]
  },
  {
   "cell_type": "code",
   "execution_count": 10,
   "metadata": {},
   "outputs": [],
   "source": [
    "def multiply(num1: List[int], num2: List[int]) -> List[int]:\n",
    "    sign = -1 if (num1[0] < 0) ^ (num2[0] < 0) else 1\n",
    "    num1[0], num2[0] = abs(num1[0]), abs(num2[0])\n",
    "    \n",
    "    result = [0] * (len(num1) + len(num2))\n",
    "    for i in reversed(range(len(num1))):\n",
    "        for j in reversed(range(len(num2))):\n",
    "            result[i + j + 1] += num1[i] * num2[j]\n",
    "            result[i + j] += result[i + j + 1] // 10\n",
    "            result[i + j + 1] %= 10\n",
    "            \n",
    "    # Remove the leading zeroes\n",
    "    result = result[next((i for i, x in enumerate(result) if x != 0), len(result)):] or [0]\n",
    "    return [sign * result[0]] + result[1:]"
   ]
  },
  {
   "cell_type": "code",
   "execution_count": 11,
   "metadata": {},
   "outputs": [
    {
     "data": {
      "text/plain": [
       "[1, 6, 0]"
      ]
     },
     "execution_count": 11,
     "metadata": {},
     "output_type": "execute_result"
    }
   ],
   "source": [
    "multiply([-5], [-3, 2])"
   ]
  },
  {
   "cell_type": "code",
   "execution_count": 12,
   "metadata": {},
   "outputs": [],
   "source": [
    "def can_reach_end(A: List[int]) -> bool:\n",
    "    furthest_reach_so_far, last_index = 0, len(A) - 1\n",
    "    i = 0\n",
    "    while i <= furthest_reach_so_far and furthest_reach_so_far < last_index:\n",
    "        furthest_reach_so_far = max(furthest_reach_so_far, A[i] + i)\n",
    "        i += 1\n",
    "    return furthest_reach_so_far >= last_index"
   ]
  },
  {
   "cell_type": "code",
   "execution_count": 13,
   "metadata": {},
   "outputs": [
    {
     "data": {
      "text/plain": [
       "True"
      ]
     },
     "execution_count": 13,
     "metadata": {},
     "output_type": "execute_result"
    }
   ],
   "source": [
    "can_reach_end([3, 3, 1, 0, 2, 0, 1])"
   ]
  },
  {
   "cell_type": "code",
   "execution_count": 14,
   "metadata": {},
   "outputs": [
    {
     "data": {
      "text/plain": [
       "False"
      ]
     },
     "execution_count": 14,
     "metadata": {},
     "output_type": "execute_result"
    }
   ],
   "source": [
    "can_reach_end([3, 2, 0, 0, 2, 0, 1])"
   ]
  },
  {
   "cell_type": "code",
   "execution_count": 15,
   "metadata": {},
   "outputs": [],
   "source": [
    "# Return the number of valid entries after deletion.\n",
    "def delete_duplicates(A: List[int]) -> int:\n",
    "    if not A:\n",
    "        return []\n",
    "    write_index = 1\n",
    "    for i in range(1, len(A)):\n",
    "        if A[write_index - 1] != A[i]:\n",
    "            A[write_index] = A[i]\n",
    "            write_index += 1\n",
    "    return A[:write_index]"
   ]
  },
  {
   "cell_type": "code",
   "execution_count": 16,
   "metadata": {},
   "outputs": [
    {
     "data": {
      "text/plain": [
       "[2, 3, 5, 7, 11, 13]"
      ]
     },
     "execution_count": 16,
     "metadata": {},
     "output_type": "execute_result"
    }
   ],
   "source": [
    "delete_duplicates([2, 3, 5, 5, 7, 11, 11, 11, 13])"
   ]
  },
  {
   "cell_type": "code",
   "execution_count": 17,
   "metadata": {},
   "outputs": [],
   "source": [
    "def buy_and_sell_stock_once(prices: List[float]) -> float:\n",
    "    min_price_so_far, max_profit = float('inf'), 0.0\n",
    "    for price in prices:\n",
    "        max_profit_sell_today = price - min_price_so_far\n",
    "        max_profit = max(max_profit, max_profit_sell_today)\n",
    "        min_price_so_far = min(min_price_so_far, price)\n",
    "    return max_profit"
   ]
  },
  {
   "cell_type": "code",
   "execution_count": 18,
   "metadata": {},
   "outputs": [
    {
     "data": {
      "text/plain": [
       "30"
      ]
     },
     "execution_count": 18,
     "metadata": {},
     "output_type": "execute_result"
    }
   ],
   "source": [
    "buy_and_sell_stock_once([310, 315, 275, 295, 260, 270, 290, 230, 255, 250])"
   ]
  },
  {
   "cell_type": "code",
   "execution_count": 19,
   "metadata": {},
   "outputs": [],
   "source": [
    "def buy_and_sell_stock_twice(prices: List[float]) -> float:\n",
    "    max_total_profit, min_price_so_far = 0.0, float('inf')\n",
    "    first_buy_sell_profits = [0.0] * len(prices)\n",
    "    # Forward phase. For each day, we record maximum profit if we sell on that day.\n",
    "    for i, price in enumerate(prices):\n",
    "        min_price_so_far = min(min_price_so_far, price)\n",
    "        max_total_profit = max(max_total_profit, price - min_price_so_far)\n",
    "        first_buy_sell_profits[i] = max_total_profit\n",
    "    max_price_so_far = float('-inf')\n",
    "    # Backward phase. For each day, find the maximum profit if we make the \n",
    "    # second buy on that day\n",
    "    for i, price in reversed(list(enumerate(prices[1:], 1))):\n",
    "        max_price_so_far = max(max_price_so_far, price)\n",
    "        max_total_profit = max(max_total_profit, \n",
    "                               max_price_so_far - price + first_buy_sell_profits[i - 1])\n",
    "    return max_total_profit"
   ]
  },
  {
   "cell_type": "code",
   "execution_count": 20,
   "metadata": {},
   "outputs": [
    {
     "data": {
      "text/plain": [
       "55"
      ]
     },
     "execution_count": 20,
     "metadata": {},
     "output_type": "execute_result"
    }
   ],
   "source": [
    "buy_and_sell_stock_twice([310, 315, 275, 295, 260, 270, 290, 230, 255, 250])"
   ]
  },
  {
   "cell_type": "code",
   "execution_count": 21,
   "metadata": {},
   "outputs": [],
   "source": [
    "def buy_and_sell_stock_twice(prices: List[float]) -> float:\n",
    "    min_price = float('inf')\n",
    "    max_profit_after_first_sell = 0\n",
    "    max_profit_left_after_second_buy = float('-inf')\n",
    "    max_profit_after_second_sell = 0\n",
    "    for price in prices:\n",
    "        min_price = min(price, min_price)\n",
    "        max_profit_after_first_sell = max(price - min_price, max_profit_after_first_sell)\n",
    "        max_profit_left_after_second_buy = max(max_profit_after_first_sell - price, max_profit_left_after_second_buy)\n",
    "        max_profit_after_second_sell = max(price + max_profit_left_after_second_buy, max_profit_after_second_sell)\n",
    "    return max_profit_after_second_sell"
   ]
  },
  {
   "cell_type": "code",
   "execution_count": 22,
   "metadata": {},
   "outputs": [
    {
     "data": {
      "text/plain": [
       "55"
      ]
     },
     "execution_count": 22,
     "metadata": {},
     "output_type": "execute_result"
    }
   ],
   "source": [
    "buy_and_sell_stock_twice([310, 315, 275, 295, 260, 270, 290, 230, 255, 250])"
   ]
  },
  {
   "cell_type": "code",
   "execution_count": 23,
   "metadata": {},
   "outputs": [],
   "source": [
    "def rearrange(A: List[int]) -> List[int]:\n",
    "    for i in range(len(A)):\n",
    "        A[i:i + 2] = sorted(A[i:i + 2], reverse=bool(i % 2))\n",
    "    return A"
   ]
  },
  {
   "cell_type": "code",
   "execution_count": 24,
   "metadata": {},
   "outputs": [
    {
     "name": "stdout",
     "output_type": "stream",
     "text": [
      "9.58 ms ± 3.55 ms per loop (mean ± std. dev. of 7 runs, 100 loops each)\n"
     ]
    }
   ],
   "source": [
    "%timeit rearrange(list(range(10000)))"
   ]
  },
  {
   "cell_type": "code",
   "execution_count": 25,
   "metadata": {},
   "outputs": [],
   "source": [
    "# Given n, return all primes up to and including n.\n",
    "def generate_primes(n: int) -> List[int]:\n",
    "    primes = []\n",
    "    # is_prime[p] represents if p is prime or not. Initially, set each to \n",
    "    # true, expecting 0 and 1. Then use sieving to eliminate nonprimes.\n",
    "    is_prime = [False, False] + [True] * (n - 1)\n",
    "    for p in range(2, n + 1):\n",
    "        if is_prime[p]:\n",
    "            primes.append(p)\n",
    "            # Sieve p's multiples.\n",
    "            for i in range(p * 2, n + 1, p):\n",
    "                is_prime[i] = False\n",
    "    return primes"
   ]
  },
  {
   "cell_type": "code",
   "execution_count": 26,
   "metadata": {},
   "outputs": [
    {
     "name": "stdout",
     "output_type": "stream",
     "text": [
      "3.08 ms ± 1.15 ms per loop (mean ± std. dev. of 7 runs, 100 loops each)\n"
     ]
    }
   ],
   "source": [
    "%timeit generate_primes(10000)"
   ]
  },
  {
   "cell_type": "code",
   "execution_count": 27,
   "metadata": {},
   "outputs": [],
   "source": [
    "# Given n, return all primes up to and including n.\n",
    "def generate_primes(n: int) -> List[int]:\n",
    "    if n < 2:\n",
    "        return []\n",
    "    size = (n - 3) // 2 + 1\n",
    "    primes = [2]  # Stores the primes from 1 to n.\n",
    "    # is_prime[i] represents (2i + 3) is prime or not.\n",
    "    # For example, is_prime[0] represents 3 is prime or not,\n",
    "    # is_prime[1] represents 5, is_prime[2] represents 7, etc.\n",
    "    # Initially set each to true. Then use sieving to eliminate nonprimes.\n",
    "    is_prime = [True] * size\n",
    "    for i in range(size):\n",
    "        if is_prime[i]:\n",
    "            p = i * 2 + 3\n",
    "            primes.append(p)\n",
    "            # Sieving from p^2, where p^2 = (4i^2 + 12i + 9).\n",
    "            # The index in is_prime is (2i^2 + 6i + 3)\n",
    "            for j in range(2 * i**2 + 6 * i + 3, size, p):\n",
    "                is_prime[j] = False\n",
    "    return primes"
   ]
  },
  {
   "cell_type": "code",
   "execution_count": 28,
   "metadata": {},
   "outputs": [
    {
     "name": "stdout",
     "output_type": "stream",
     "text": [
      "1.82 ms ± 233 µs per loop (mean ± std. dev. of 7 runs, 1000 loops each)\n"
     ]
    }
   ],
   "source": [
    "%timeit generate_primes(10000)"
   ]
  },
  {
   "cell_type": "code",
   "execution_count": 39,
   "metadata": {},
   "outputs": [],
   "source": [
    "def apply_permutation(perm: List[int], A: List[int]) -> List[int]:\n",
    "    for i in range(len(A)):\n",
    "        while perm[i] != i:\n",
    "            A[perm[i]], A[i] = A[i], A[perm[i]]\n",
    "            perm[perm[i]], perm[i] = perm[i], perm[perm[i]]\n",
    "    print(perm)\n",
    "    return A"
   ]
  },
  {
   "cell_type": "code",
   "execution_count": 40,
   "metadata": {},
   "outputs": [
    {
     "name": "stdout",
     "output_type": "stream",
     "text": [
      "[0, 1, 2, 3, 4, 5]\n"
     ]
    },
    {
     "data": {
      "text/plain": [
       "[11, 12, 10, 15, 13, 14]"
      ]
     },
     "execution_count": 40,
     "metadata": {},
     "output_type": "execute_result"
    }
   ],
   "source": [
    "apply_permutation([2, 0, 1, 4, 5, 3], [10, 11, 12, 13, 14, 15])"
   ]
  },
  {
   "cell_type": "code",
   "execution_count": 37,
   "metadata": {},
   "outputs": [],
   "source": [
    "def apply_permutation(perm: List[int], A: List[int]) -> List[int]:\n",
    "    for i in range(len(A)):\n",
    "        if perm[i] < 0:\n",
    "            perm[i] = -perm[i] - 1\n",
    "            continue\n",
    "        a, j = A[i], perm[i]\n",
    "        while j != i:\n",
    "            A[j], a = a, A[j]\n",
    "            perm[j], j = -perm[j] - 1, perm[j]\n",
    "        A[i] = a\n",
    "    print(perm)\n",
    "    return A"
   ]
  },
  {
   "cell_type": "code",
   "execution_count": 38,
   "metadata": {},
   "outputs": [
    {
     "name": "stdout",
     "output_type": "stream",
     "text": [
      "[2, 0, 1, 4, 5, 3]\n"
     ]
    },
    {
     "data": {
      "text/plain": [
       "[11, 12, 10, 15, 13, 14]"
      ]
     },
     "execution_count": 38,
     "metadata": {},
     "output_type": "execute_result"
    }
   ],
   "source": [
    "apply_permutation([2, 0, 1, 4, 5, 3], [10, 11, 12, 13, 14, 15])"
   ]
  },
  {
   "cell_type": "code",
   "execution_count": 41,
   "metadata": {},
   "outputs": [],
   "source": [
    "def next_permutation(perm: List[int]) -> List[int]:\n",
    "    inversion_point = len(perm) - 2\n",
    "    while (inversion_point >= 0 and perm[inversion_point] >= perm[inversion_point + 1]):\n",
    "        inversion_point -= 1\n",
    "    if inversion_point == -1:\n",
    "        return []\n",
    "    for i in reversed(range(inversion_point + 1, len(perm))):\n",
    "        if perm[i] > perm[inversion_point]:\n",
    "            perm[inversion_point], perm[i] = perm[i], perm[inversion_point]\n",
    "            break\n",
    "    perm[inversion_point + 1:] = reversed(perm[inversion_point + 1:])\n",
    "    return perm"
   ]
  },
  {
   "cell_type": "code",
   "execution_count": 43,
   "metadata": {},
   "outputs": [
    {
     "data": {
      "text/plain": [
       "[2, 0, 3, 1, 4, 5]"
      ]
     },
     "execution_count": 43,
     "metadata": {},
     "output_type": "execute_result"
    }
   ],
   "source": [
    "next_permutation([2, 0, 1, 5, 4, 3])"
   ]
  },
  {
   "cell_type": "code",
   "execution_count": 46,
   "metadata": {},
   "outputs": [],
   "source": [
    "import random\n",
    "\n",
    "def random_sampling(k: int, A: List[int]) -> List[int]:\n",
    "    for i in range(k):\n",
    "        r = random.randint(i, len(A) - 1)\n",
    "        A[i], A[r] = A[r], A[i]\n",
    "    return A"
   ]
  },
  {
   "cell_type": "code",
   "execution_count": 58,
   "metadata": {},
   "outputs": [
    {
     "data": {
      "text/plain": [
       "[2, 1, 8, 4, 7, 5, 3, 0, 9, 6]"
      ]
     },
     "execution_count": 58,
     "metadata": {},
     "output_type": "execute_result"
    }
   ],
   "source": [
    "random_sampling(10, list(range(10)))"
   ]
  },
  {
   "cell_type": "code",
   "execution_count": 52,
   "metadata": {},
   "outputs": [],
   "source": [
    "import itertools\n",
    "\n",
    "def online_random_sample(stream: Iterator[int], k: int) -> List[int]:\n",
    "    running_sample = list(itertools.islice(stream, k))\n",
    "    num_seen_so_far = k\n",
    "    for x in stream:\n",
    "        num_seen_so_far += 1\n",
    "        idx_to_replace = random.randrange(num_seen_so_far)\n",
    "        if idx_to_replace < k:\n",
    "            running_sample[idx_to_replace] = x\n",
    "    return running_sample"
   ]
  },
  {
   "cell_type": "code",
   "execution_count": 57,
   "metadata": {},
   "outputs": [
    {
     "data": {
      "text/plain": [
       "[0, 1, 3, 3, 2, 7, 6, 5, 8, 9]"
      ]
     },
     "execution_count": 57,
     "metadata": {},
     "output_type": "execute_result"
    }
   ],
   "source": [
    "online_random_sample(list(range(10)), 10)"
   ]
  },
  {
   "cell_type": "code",
   "execution_count": 56,
   "metadata": {},
   "outputs": [],
   "source": [
    "def compute_random_permutation(n: int) -> List[int]:\n",
    "    permutation = list(range(n))\n",
    "    random_sampling(n, permutation)\n",
    "    return permutation"
   ]
  },
  {
   "cell_type": "code",
   "execution_count": 59,
   "metadata": {},
   "outputs": [
    {
     "data": {
      "text/plain": [
       "[2, 3, 7, 5, 0, 4, 9, 8, 1, 6]"
      ]
     },
     "execution_count": 59,
     "metadata": {},
     "output_type": "execute_result"
    }
   ],
   "source": [
    "compute_random_permutation(10)"
   ]
  },
  {
   "cell_type": "code",
   "execution_count": 65,
   "metadata": {},
   "outputs": [],
   "source": [
    "def random_subset(n: int, k: int) -> List[int]:\n",
    "    changed_elements: Dict[int, int] = {}\n",
    "    for i in range(k):\n",
    "        rand_idx = random.randrange(i, n)\n",
    "        rand_idx_mapped = changed_elements.get(rand_idx, rand_idx)\n",
    "        i_mapped = changed_elements.get(i, i)\n",
    "        print(rand_idx, rand_idx_mapped, i_mapped)\n",
    "        changed_elements[rand_idx] = i_mapped\n",
    "        changed_elements[i] = rand_idx_mapped\n",
    "    return [changed_elements[i] for i in range(k)]"
   ]
  },
  {
   "cell_type": "code",
   "execution_count": 66,
   "metadata": {},
   "outputs": [
    {
     "name": "stdout",
     "output_type": "stream",
     "text": [
      "5 5 0\n",
      "6 6 1\n",
      "7 7 2\n",
      "4 4 3\n",
      "7 2 3\n"
     ]
    },
    {
     "data": {
      "text/plain": [
       "[5, 6, 7, 4, 2]"
      ]
     },
     "execution_count": 66,
     "metadata": {},
     "output_type": "execute_result"
    }
   ],
   "source": [
    "random_subset(10, 5)"
   ]
  },
  {
   "cell_type": "code",
   "execution_count": 68,
   "metadata": {},
   "outputs": [],
   "source": [
    "import bisect\n",
    "\n",
    "def nonuniform_random_number_generator(values: List[int], probabilities: List[float]) -> int:\n",
    "    prefix_sum_of_probabilities = list(itertools.accumulate(probabilities))\n",
    "    interval_idx = bisect.bisect(prefix_sum_of_probabilities, random.random())\n",
    "    return values[interval_idx]"
   ]
  },
  {
   "cell_type": "code",
   "execution_count": 70,
   "metadata": {},
   "outputs": [
    {
     "name": "stdout",
     "output_type": "stream",
     "text": [
      "12.6 ms ± 997 µs per loop (mean ± std. dev. of 7 runs, 100 loops each)\n"
     ]
    }
   ],
   "source": [
    "%timeit [nonuniform_random_number_generator([3, 5, 7, 11], [9/18, 6/18, 2/18, 1/18]) for _ in range(10000)]"
   ]
  },
  {
   "cell_type": "code",
   "execution_count": 71,
   "metadata": {},
   "outputs": [],
   "source": [
    "def is_valid_sudoku(partial_assignment: List[List[int]]) -> bool:\n",
    "    def has_duplicate(block):\n",
    "        block = list(filter(lambda x: x != 0, block))\n",
    "        return len(block) != len(set(block))\n",
    "    n = len(partial_assignment)\n",
    "    if any(has_duplicate([partial_assignment[i][j] for j in range(n)])\n",
    "           or has_duplicate([partial_assignment[j][i] for j in range(n)])\n",
    "           for i in range(n)):\n",
    "        return False\n",
    "    region_size = int(math.sqrt(n))\n",
    "    return all(not has_duplicate([partial_assignment[a][b] \n",
    "                                  for a in range(region_size * I, region_size * (I + 1)) \n",
    "                                  for b in range(region_size * J, region_size * (J + 1))\n",
    "                                 ]) for I in range(region_size) for J in range(region_size))"
   ]
  },
  {
   "cell_type": "code",
   "execution_count": 129,
   "metadata": {},
   "outputs": [],
   "source": [
    "partial_assignment = [[5,3,0,0,7,0,0,0,0],\n",
    "                      [6,0,0,1,9,5,0,0,0],\n",
    "                      [0,9,8,0,0,0,0,6,0],\n",
    "                      \n",
    "                      [8,0,0,0,6,0,0,0,3],\n",
    "                      [4,0,0,8,0,3,0,0,1],\n",
    "                      [7,0,0,0,2,0,0,0,6],\n",
    "                      \n",
    "                      [0,6,0,0,0,0,2,8,0],\n",
    "                      [0,0,0,4,1,9,0,0,5],\n",
    "                      [0,0,0,0,8,0,0,7,9]\n",
    "                     ]"
   ]
  },
  {
   "cell_type": "code",
   "execution_count": 130,
   "metadata": {},
   "outputs": [
    {
     "data": {
      "text/plain": [
       "True"
      ]
     },
     "execution_count": 130,
     "metadata": {},
     "output_type": "execute_result"
    }
   ],
   "source": [
    "is_valid_sudoku(partial_assignment)"
   ]
  },
  {
   "cell_type": "code",
   "execution_count": 133,
   "metadata": {},
   "outputs": [],
   "source": [
    "full_assignment = [[5,3,4,6,7,8,9,1,2],\n",
    "                   [6,7,2,1,9,5,3,4,8],\n",
    "                   [1,9,8,3,4,2,5,6,7],\n",
    "\n",
    "                   [8,5,9,7,6,1,4,2,3],\n",
    "                   [4,2,6,8,5,3,7,9,1],\n",
    "                   [7,1,3,9,2,4,8,5,6],\n",
    "\n",
    "                   [9,6,1,5,3,7,2,8,4],\n",
    "                   [2,8,7,4,1,9,6,3,5],\n",
    "                   [3,4,5,2,8,6,1,7,9]\n",
    "                  ]"
   ]
  },
  {
   "cell_type": "code",
   "execution_count": 134,
   "metadata": {},
   "outputs": [
    {
     "data": {
      "text/plain": [
       "True"
      ]
     },
     "execution_count": 134,
     "metadata": {},
     "output_type": "execute_result"
    }
   ],
   "source": [
    "is_valid_sudoku(full_assignment)"
   ]
  },
  {
   "cell_type": "code",
   "execution_count": 127,
   "metadata": {},
   "outputs": [],
   "source": [
    "def is_valid_sudoku_pythonic(partial_assignment):\n",
    "    region_size = int(math.sqrt(len(partial_assignment)))\n",
    "    return max(collections.Counter(k for i, row in enumerate(partial_assignment)\n",
    "                                   for j, c in enumerate(row) if c != 0\n",
    "                                   for k in ((i, str(c)), \n",
    "                                             (str(c), j), \n",
    "                                             (i // region_size, j // region_size, str(c)))).values(), \n",
    "               default=0) <= 1"
   ]
  },
  {
   "cell_type": "code",
   "execution_count": 128,
   "metadata": {},
   "outputs": [
    {
     "data": {
      "text/plain": [
       "True"
      ]
     },
     "execution_count": 128,
     "metadata": {},
     "output_type": "execute_result"
    }
   ],
   "source": [
    "is_valid_sudoku_pythonic(partial_assignment)"
   ]
  },
  {
   "cell_type": "code",
   "execution_count": 135,
   "metadata": {},
   "outputs": [
    {
     "data": {
      "text/plain": [
       "True"
      ]
     },
     "execution_count": 135,
     "metadata": {},
     "output_type": "execute_result"
    }
   ],
   "source": [
    "is_valid_sudoku_pythonic(full_assignment)"
   ]
  },
  {
   "cell_type": "code",
   "execution_count": 136,
   "metadata": {},
   "outputs": [],
   "source": [
    "def is_valid_sudoku_pythonic(assignment):\n",
    "    size = int(math.sqrt(len(assignment)))\n",
    "    c = collections.Counter(k for i, row in enumerate(assignment)\n",
    "                           for j, c in enumerate(row) if c != 0\n",
    "                           for k in ((i, str(c)), (str(c), j), (i // size, j // size, str(c))))\n",
    "    print(c)\n",
    "    return max(c.values(), default=0) <= 1"
   ]
  },
  {
   "cell_type": "code",
   "execution_count": 137,
   "metadata": {},
   "outputs": [
    {
     "name": "stdout",
     "output_type": "stream",
     "text": [
      "Counter({(0, '5'): 1, ('5', 0): 1, (0, 0, '5'): 1, (0, '3'): 1, ('3', 1): 1, (0, 0, '3'): 1, (0, '4'): 1, ('4', 2): 1, (0, 0, '4'): 1, (0, '6'): 1, ('6', 3): 1, (0, 1, '6'): 1, (0, '7'): 1, ('7', 4): 1, (0, 1, '7'): 1, (0, '8'): 1, ('8', 5): 1, (0, 1, '8'): 1, (0, '9'): 1, ('9', 6): 1, (0, 2, '9'): 1, (0, '1'): 1, ('1', 7): 1, (0, 2, '1'): 1, (0, '2'): 1, ('2', 8): 1, (0, 2, '2'): 1, (1, '6'): 1, ('6', 0): 1, (0, 0, '6'): 1, (1, '7'): 1, ('7', 1): 1, (0, 0, '7'): 1, (1, '2'): 1, ('2', 2): 1, (0, 0, '2'): 1, (1, '1'): 1, ('1', 3): 1, (0, 1, '1'): 1, (1, '9'): 1, ('9', 4): 1, (0, 1, '9'): 1, (1, '5'): 1, ('5', 5): 1, (0, 1, '5'): 1, (1, '3'): 1, ('3', 6): 1, (0, 2, '3'): 1, (1, '4'): 1, ('4', 7): 1, (0, 2, '4'): 1, (1, '8'): 1, ('8', 8): 1, (0, 2, '8'): 1, (2, '1'): 1, ('1', 0): 1, (0, 0, '1'): 1, (2, '9'): 1, ('9', 1): 1, (0, 0, '9'): 1, (2, '8'): 1, ('8', 2): 1, (0, 0, '8'): 1, (2, '3'): 1, ('3', 3): 1, (0, 1, '3'): 1, (2, '4'): 1, ('4', 4): 1, (0, 1, '4'): 1, (2, '2'): 1, ('2', 5): 1, (0, 1, '2'): 1, (2, '5'): 1, ('5', 6): 1, (0, 2, '5'): 1, (2, '6'): 1, ('6', 7): 1, (0, 2, '6'): 1, (2, '7'): 1, ('7', 8): 1, (0, 2, '7'): 1, (3, '8'): 1, ('8', 0): 1, (1, 0, '8'): 1, (3, '5'): 1, ('5', 1): 1, (1, 0, '5'): 1, (3, '9'): 1, ('9', 2): 1, (1, 0, '9'): 1, (3, '7'): 1, ('7', 3): 1, (1, 1, '7'): 1, (3, '6'): 1, ('6', 4): 1, (1, 1, '6'): 1, (3, '1'): 1, ('1', 5): 1, (1, 1, '1'): 1, (3, '4'): 1, ('4', 6): 1, (1, 2, '4'): 1, (3, '2'): 1, ('2', 7): 1, (1, 2, '2'): 1, (3, '3'): 1, ('3', 8): 1, (1, 2, '3'): 1, (4, '4'): 1, ('4', 0): 1, (1, 0, '4'): 1, (4, '2'): 1, ('2', 1): 1, (1, 0, '2'): 1, (4, '6'): 1, ('6', 2): 1, (1, 0, '6'): 1, (4, '8'): 1, ('8', 3): 1, (1, 1, '8'): 1, (4, '5'): 1, ('5', 4): 1, (1, 1, '5'): 1, (4, '3'): 1, ('3', 5): 1, (1, 1, '3'): 1, (4, '7'): 1, ('7', 6): 1, (1, 2, '7'): 1, (4, '9'): 1, ('9', 7): 1, (1, 2, '9'): 1, (4, '1'): 1, ('1', 8): 1, (1, 2, '1'): 1, (5, '7'): 1, ('7', 0): 1, (1, 0, '7'): 1, (5, '1'): 1, ('1', 1): 1, (1, 0, '1'): 1, (5, '3'): 1, ('3', 2): 1, (1, 0, '3'): 1, (5, '9'): 1, ('9', 3): 1, (1, 1, '9'): 1, (5, '2'): 1, ('2', 4): 1, (1, 1, '2'): 1, (5, '4'): 1, ('4', 5): 1, (1, 1, '4'): 1, (5, '8'): 1, ('8', 6): 1, (1, 2, '8'): 1, (5, '5'): 1, ('5', 7): 1, (1, 2, '5'): 1, (5, '6'): 1, ('6', 8): 1, (1, 2, '6'): 1, (6, '9'): 1, ('9', 0): 1, (2, 0, '9'): 1, (6, '6'): 1, ('6', 1): 1, (2, 0, '6'): 1, (6, '1'): 1, ('1', 2): 1, (2, 0, '1'): 1, (6, '5'): 1, ('5', 3): 1, (2, 1, '5'): 1, (6, '3'): 1, ('3', 4): 1, (2, 1, '3'): 1, (6, '7'): 1, ('7', 5): 1, (2, 1, '7'): 1, (6, '2'): 1, ('2', 6): 1, (2, 2, '2'): 1, (6, '8'): 1, ('8', 7): 1, (2, 2, '8'): 1, (6, '4'): 1, ('4', 8): 1, (2, 2, '4'): 1, (7, '2'): 1, ('2', 0): 1, (2, 0, '2'): 1, (7, '8'): 1, ('8', 1): 1, (2, 0, '8'): 1, (7, '7'): 1, ('7', 2): 1, (2, 0, '7'): 1, (7, '4'): 1, ('4', 3): 1, (2, 1, '4'): 1, (7, '1'): 1, ('1', 4): 1, (2, 1, '1'): 1, (7, '9'): 1, ('9', 5): 1, (2, 1, '9'): 1, (7, '6'): 1, ('6', 6): 1, (2, 2, '6'): 1, (7, '3'): 1, ('3', 7): 1, (2, 2, '3'): 1, (7, '5'): 1, ('5', 8): 1, (2, 2, '5'): 1, (8, '3'): 1, ('3', 0): 1, (2, 0, '3'): 1, (8, '4'): 1, ('4', 1): 1, (2, 0, '4'): 1, (8, '5'): 1, ('5', 2): 1, (2, 0, '5'): 1, (8, '2'): 1, ('2', 3): 1, (2, 1, '2'): 1, (8, '8'): 1, ('8', 4): 1, (2, 1, '8'): 1, (8, '6'): 1, ('6', 5): 1, (2, 1, '6'): 1, (8, '1'): 1, ('1', 6): 1, (2, 2, '1'): 1, (8, '7'): 1, ('7', 7): 1, (2, 2, '7'): 1, (8, '9'): 1, ('9', 8): 1, (2, 2, '9'): 1})\n"
     ]
    },
    {
     "data": {
      "text/plain": [
       "True"
      ]
     },
     "execution_count": 137,
     "metadata": {},
     "output_type": "execute_result"
    }
   ],
   "source": [
    "is_valid_sudoku_pythonic(full_assignment)"
   ]
  },
  {
   "cell_type": "code",
   "execution_count": 138,
   "metadata": {},
   "outputs": [],
   "source": [
    "full_assignment[0][0] += 1"
   ]
  },
  {
   "cell_type": "code",
   "execution_count": 139,
   "metadata": {},
   "outputs": [
    {
     "name": "stdout",
     "output_type": "stream",
     "text": [
      "Counter({(0, '6'): 2, ('6', 0): 2, (0, 0, '6'): 2, (0, '3'): 1, ('3', 1): 1, (0, 0, '3'): 1, (0, '4'): 1, ('4', 2): 1, (0, 0, '4'): 1, ('6', 3): 1, (0, 1, '6'): 1, (0, '7'): 1, ('7', 4): 1, (0, 1, '7'): 1, (0, '8'): 1, ('8', 5): 1, (0, 1, '8'): 1, (0, '9'): 1, ('9', 6): 1, (0, 2, '9'): 1, (0, '1'): 1, ('1', 7): 1, (0, 2, '1'): 1, (0, '2'): 1, ('2', 8): 1, (0, 2, '2'): 1, (1, '6'): 1, (1, '7'): 1, ('7', 1): 1, (0, 0, '7'): 1, (1, '2'): 1, ('2', 2): 1, (0, 0, '2'): 1, (1, '1'): 1, ('1', 3): 1, (0, 1, '1'): 1, (1, '9'): 1, ('9', 4): 1, (0, 1, '9'): 1, (1, '5'): 1, ('5', 5): 1, (0, 1, '5'): 1, (1, '3'): 1, ('3', 6): 1, (0, 2, '3'): 1, (1, '4'): 1, ('4', 7): 1, (0, 2, '4'): 1, (1, '8'): 1, ('8', 8): 1, (0, 2, '8'): 1, (2, '1'): 1, ('1', 0): 1, (0, 0, '1'): 1, (2, '9'): 1, ('9', 1): 1, (0, 0, '9'): 1, (2, '8'): 1, ('8', 2): 1, (0, 0, '8'): 1, (2, '3'): 1, ('3', 3): 1, (0, 1, '3'): 1, (2, '4'): 1, ('4', 4): 1, (0, 1, '4'): 1, (2, '2'): 1, ('2', 5): 1, (0, 1, '2'): 1, (2, '5'): 1, ('5', 6): 1, (0, 2, '5'): 1, (2, '6'): 1, ('6', 7): 1, (0, 2, '6'): 1, (2, '7'): 1, ('7', 8): 1, (0, 2, '7'): 1, (3, '8'): 1, ('8', 0): 1, (1, 0, '8'): 1, (3, '5'): 1, ('5', 1): 1, (1, 0, '5'): 1, (3, '9'): 1, ('9', 2): 1, (1, 0, '9'): 1, (3, '7'): 1, ('7', 3): 1, (1, 1, '7'): 1, (3, '6'): 1, ('6', 4): 1, (1, 1, '6'): 1, (3, '1'): 1, ('1', 5): 1, (1, 1, '1'): 1, (3, '4'): 1, ('4', 6): 1, (1, 2, '4'): 1, (3, '2'): 1, ('2', 7): 1, (1, 2, '2'): 1, (3, '3'): 1, ('3', 8): 1, (1, 2, '3'): 1, (4, '4'): 1, ('4', 0): 1, (1, 0, '4'): 1, (4, '2'): 1, ('2', 1): 1, (1, 0, '2'): 1, (4, '6'): 1, ('6', 2): 1, (1, 0, '6'): 1, (4, '8'): 1, ('8', 3): 1, (1, 1, '8'): 1, (4, '5'): 1, ('5', 4): 1, (1, 1, '5'): 1, (4, '3'): 1, ('3', 5): 1, (1, 1, '3'): 1, (4, '7'): 1, ('7', 6): 1, (1, 2, '7'): 1, (4, '9'): 1, ('9', 7): 1, (1, 2, '9'): 1, (4, '1'): 1, ('1', 8): 1, (1, 2, '1'): 1, (5, '7'): 1, ('7', 0): 1, (1, 0, '7'): 1, (5, '1'): 1, ('1', 1): 1, (1, 0, '1'): 1, (5, '3'): 1, ('3', 2): 1, (1, 0, '3'): 1, (5, '9'): 1, ('9', 3): 1, (1, 1, '9'): 1, (5, '2'): 1, ('2', 4): 1, (1, 1, '2'): 1, (5, '4'): 1, ('4', 5): 1, (1, 1, '4'): 1, (5, '8'): 1, ('8', 6): 1, (1, 2, '8'): 1, (5, '5'): 1, ('5', 7): 1, (1, 2, '5'): 1, (5, '6'): 1, ('6', 8): 1, (1, 2, '6'): 1, (6, '9'): 1, ('9', 0): 1, (2, 0, '9'): 1, (6, '6'): 1, ('6', 1): 1, (2, 0, '6'): 1, (6, '1'): 1, ('1', 2): 1, (2, 0, '1'): 1, (6, '5'): 1, ('5', 3): 1, (2, 1, '5'): 1, (6, '3'): 1, ('3', 4): 1, (2, 1, '3'): 1, (6, '7'): 1, ('7', 5): 1, (2, 1, '7'): 1, (6, '2'): 1, ('2', 6): 1, (2, 2, '2'): 1, (6, '8'): 1, ('8', 7): 1, (2, 2, '8'): 1, (6, '4'): 1, ('4', 8): 1, (2, 2, '4'): 1, (7, '2'): 1, ('2', 0): 1, (2, 0, '2'): 1, (7, '8'): 1, ('8', 1): 1, (2, 0, '8'): 1, (7, '7'): 1, ('7', 2): 1, (2, 0, '7'): 1, (7, '4'): 1, ('4', 3): 1, (2, 1, '4'): 1, (7, '1'): 1, ('1', 4): 1, (2, 1, '1'): 1, (7, '9'): 1, ('9', 5): 1, (2, 1, '9'): 1, (7, '6'): 1, ('6', 6): 1, (2, 2, '6'): 1, (7, '3'): 1, ('3', 7): 1, (2, 2, '3'): 1, (7, '5'): 1, ('5', 8): 1, (2, 2, '5'): 1, (8, '3'): 1, ('3', 0): 1, (2, 0, '3'): 1, (8, '4'): 1, ('4', 1): 1, (2, 0, '4'): 1, (8, '5'): 1, ('5', 2): 1, (2, 0, '5'): 1, (8, '2'): 1, ('2', 3): 1, (2, 1, '2'): 1, (8, '8'): 1, ('8', 4): 1, (2, 1, '8'): 1, (8, '6'): 1, ('6', 5): 1, (2, 1, '6'): 1, (8, '1'): 1, ('1', 6): 1, (2, 2, '1'): 1, (8, '7'): 1, ('7', 7): 1, (2, 2, '7'): 1, (8, '9'): 1, ('9', 8): 1, (2, 2, '9'): 1})\n"
     ]
    },
    {
     "data": {
      "text/plain": [
       "False"
      ]
     },
     "execution_count": 139,
     "metadata": {},
     "output_type": "execute_result"
    }
   ],
   "source": [
    "is_valid_sudoku_pythonic(full_assignment)"
   ]
  },
  {
   "cell_type": "code",
   "execution_count": 145,
   "metadata": {},
   "outputs": [],
   "source": [
    "def is_valid_sudoku_pythonic(assignment):\n",
    "    size = int(math.sqrt(len(assignment)))\n",
    "    c = Counter(k for i, row in enumerate(assignment)\n",
    "                for j, c in enumerate(row) if c != 0\n",
    "                for k in ((i, str(c)), (str(c), j), (i//size, j//size, str(c)))\n",
    "               )\n",
    "    print(c.most_common(1)[0][1])\n",
    "    return max(c.values(),default=0) <= 1"
   ]
  },
  {
   "cell_type": "code",
   "execution_count": 146,
   "metadata": {},
   "outputs": [
    {
     "name": "stdout",
     "output_type": "stream",
     "text": [
      "2\n"
     ]
    },
    {
     "data": {
      "text/plain": [
       "False"
      ]
     },
     "execution_count": 146,
     "metadata": {},
     "output_type": "execute_result"
    }
   ],
   "source": [
    "is_valid_sudoku_pythonic(full_assignment)"
   ]
  },
  {
   "cell_type": "code",
   "execution_count": 153,
   "metadata": {},
   "outputs": [],
   "source": [
    "def matrix_in_spiral_order(square_matrix: List[List[int]]) -> List[int]:\n",
    "    def matrix_layer_in_clockwise(offset):\n",
    "        if offset == len(square_matrix) - offset - 1:\n",
    "            spiral_ordering.append(square_matrix[offset][offset])\n",
    "            return\n",
    "        spiral_ordering.extend(square_matrix[offset][offset:-1 - offset])\n",
    "        spiral_ordering.extend(list(zip(*square_matrix))[-1 - offset][offset:-1 - offset])\n",
    "        spiral_ordering.extend(square_matrix[-1 - offset][-1 - offset:offset:-1])\n",
    "        spiral_ordering.extend(list(zip(*square_matrix))[offset][-1 - offset:offset:-1])\n",
    "    spiral_ordering: List[int] = []\n",
    "    for offset in range((len(square_matrix) + 1) // 2):\n",
    "        matrix_layer_in_clockwise(offset)\n",
    "    return spiral_ordering"
   ]
  },
  {
   "cell_type": "code",
   "execution_count": 151,
   "metadata": {},
   "outputs": [
    {
     "data": {
      "text/plain": [
       "array([[0, 1, 2],\n",
       "       [3, 4, 5],\n",
       "       [6, 7, 8]])"
      ]
     },
     "execution_count": 151,
     "metadata": {},
     "output_type": "execute_result"
    }
   ],
   "source": [
    "x1 = np.array(range(9)).reshape(3,3)\n",
    "x1"
   ]
  },
  {
   "cell_type": "code",
   "execution_count": 152,
   "metadata": {},
   "outputs": [
    {
     "data": {
      "text/plain": [
       "array([[ 0,  1,  2,  3],\n",
       "       [ 4,  5,  6,  7],\n",
       "       [ 8,  9, 10, 11],\n",
       "       [12, 13, 14, 15]])"
      ]
     },
     "execution_count": 152,
     "metadata": {},
     "output_type": "execute_result"
    }
   ],
   "source": [
    "x2 = np.array(range(16)).reshape(4,4)\n",
    "x2"
   ]
  },
  {
   "cell_type": "code",
   "execution_count": 154,
   "metadata": {},
   "outputs": [
    {
     "data": {
      "text/plain": [
       "[0, 1, 2, 5, 8, 7, 6, 3, 4]"
      ]
     },
     "execution_count": 154,
     "metadata": {},
     "output_type": "execute_result"
    }
   ],
   "source": [
    "matrix_in_spiral_order(x1)"
   ]
  },
  {
   "cell_type": "code",
   "execution_count": 155,
   "metadata": {},
   "outputs": [
    {
     "data": {
      "text/plain": [
       "[0, 1, 2, 3, 7, 11, 15, 14, 13, 12, 8, 4, 5, 6, 10, 9]"
      ]
     },
     "execution_count": 155,
     "metadata": {},
     "output_type": "execute_result"
    }
   ],
   "source": [
    "matrix_in_spiral_order(x2)"
   ]
  },
  {
   "cell_type": "code",
   "execution_count": null,
   "metadata": {},
   "outputs": [],
   "source": []
  }
 ],
 "metadata": {
  "kernelspec": {
   "display_name": "Python 3",
   "language": "python",
   "name": "python3"
  },
  "language_info": {
   "codemirror_mode": {
    "name": "ipython",
    "version": 3
   },
   "file_extension": ".py",
   "mimetype": "text/x-python",
   "name": "python",
   "nbconvert_exporter": "python",
   "pygments_lexer": "ipython3",
   "version": "3.7.4"
  }
 },
 "nbformat": 4,
 "nbformat_minor": 4
}
